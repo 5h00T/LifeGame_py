{
 "cells": [
  {
   "cell_type": "code",
   "execution_count": 97,
   "metadata": {},
   "outputs": [],
   "source": [
    "class Cell():\n",
    "    \n",
    "    def __init__(self, alive):\n",
    "        self.alive = alive"
   ]
  },
  {
   "cell_type": "code",
   "execution_count": 132,
   "metadata": {},
   "outputs": [],
   "source": [
    "def LifeGameInit(cells_per_line, alive_probability):\n",
    "    \"\"\"\n",
    "    Parameters\n",
    "    ----------\n",
    "    cells_per_line : int\n",
    "        一列当たりのセルの数\n",
    "    alive_probability : float\n",
    "        生存セルの確率\n",
    "    \n",
    "    Returns\n",
    "    --------\n",
    "    cells : list[sells_per_line+2][sells_per_line+2]\n",
    "        Cellクラスのリスト\n",
    "    \"\"\"\n",
    "    \n",
    "    import random\n",
    "    \n",
    "    return [[Cell(True if (random.random() < alive_probability and not (col == 0 or row == 0 or col == cells_per_line+1 or row == cells_per_line+1 )) else False) for col in range(cells_per_line+2)] for row in range(cells_per_line+2) ]"
   ]
  },
  {
   "cell_type": "code",
   "execution_count": 181,
   "metadata": {},
   "outputs": [],
   "source": [
    "cells_per_line = 10\n",
    "alive_probability = 0.4"
   ]
  },
  {
   "cell_type": "code",
   "execution_count": 182,
   "metadata": {},
   "outputs": [],
   "source": [
    "cells = LifeGameInit(cells_per_line, alive_probability)"
   ]
  },
  {
   "cell_type": "code",
   "execution_count": 183,
   "metadata": {},
   "outputs": [],
   "source": [
    "def UpdateCellStatus(cells, cells_per_line):\n",
    "    \"\"\"\n",
    "    セルの状態を更新する\n",
    "    \n",
    "    Parameters\n",
    "    ----------\n",
    "    cells : list\n",
    "        更新する細胞\n",
    "    cells_per_line : int\n",
    "        一列当たりのセルの数\n",
    "        \n",
    "    Returns\n",
    "    -------\n",
    "    new_cells : list\n",
    "        更新後の細胞\n",
    "    \"\"\"\n",
    "    \n",
    "    import copy\n",
    "    \n",
    "    new_sells = copy.deepcopy(cells)\n",
    "    \n",
    "     # ダミーのマスで囲まれているので添字は1から\n",
    "    for col in range(1, cells_per_line+1):\n",
    "        for row in range(1, cells_per_line+1):\n",
    "            alive_cells = 0\n",
    "            for i in range(-1, 2):\n",
    "                for j in range(-1, 2):\n",
    "                    if cells[col+i][row+j].alive == True and not (i == 0 and j == 0):\n",
    "                        alive_cells += 1\n",
    "                        \n",
    "            if alive_cells == 3 and cells[col][row].alive == False:\n",
    "                new_sells[col][row].alive = True\n",
    "            elif alive_cells <= 1 or alive_cells >= 4:\n",
    "                new_sells[col][row].alive = False\n",
    "\n",
    "    return new_sells"
   ]
  },
  {
   "cell_type": "code",
   "execution_count": 174,
   "metadata": {},
   "outputs": [],
   "source": [
    "def print_cells(cells, alive_cell=\"■\", dead_cell=\"□\"):\n",
    "    \"\"\"\n",
    "    セルの状態を出力する\n",
    "    \"\"\"\n",
    "    for i in cells[1:-1]:\n",
    "        for j in i[1:-1]:\n",
    "            print(alive_cell if j.alive else dead_cell, end=\"\")\n",
    "        print()  # 改行"
   ]
  },
  {
   "cell_type": "code",
   "execution_count": 176,
   "metadata": {},
   "outputs": [
    {
     "name": "stdout",
     "output_type": "stream",
     "text": [
      "■■□■■■■□□■\n",
      "■□□□□□■■■■\n",
      "□■■■□□■□□■\n",
      "■□□□□□■■□□\n",
      "□□■■□□■■■□\n",
      "□□□□■■□■□■\n",
      "■□■■■■□□■□\n",
      "□■■■□□□□□□\n",
      "□□□■□■□□□■\n",
      "■□□□□□□□□□\n"
     ]
    }
   ],
   "source": [
    "print_cells(cells)"
   ]
  },
  {
   "cell_type": "code",
   "execution_count": 177,
   "metadata": {},
   "outputs": [],
   "source": [
    "n_cells = UpdateCellStatus(cells, cells_per_line)"
   ]
  },
  {
   "cell_type": "code",
   "execution_count": 178,
   "metadata": {},
   "outputs": [
    {
     "name": "stdout",
     "output_type": "stream",
     "text": [
      "■■□□■■■□□■\n",
      "■□□□□□□□□■\n",
      "■■■□□■□□□■\n",
      "□□□□□■□□□□\n",
      "□□□■■□□□□□\n",
      "□■□□□□□□□■\n",
      "□□□□□■■□■□\n",
      "□■□□□■□□□□\n",
      "□■□■■□□□□□\n",
      "□□□□□□□□□□\n"
     ]
    }
   ],
   "source": [
    "print_cells(n_cells)"
   ]
  },
  {
   "cell_type": "code",
   "execution_count": 179,
   "metadata": {},
   "outputs": [
    {
     "name": "stdout",
     "output_type": "stream",
     "text": [
      "■■□□□■□□□□\n",
      "□□■□■□■□■■\n",
      "■■□□□□□□□□\n",
      "□■■■□■□□□□\n",
      "□□□□■□□□□□\n",
      "□□□□■■□□□□\n",
      "□□□□□■■□□□\n",
      "□□■□□■■□□□\n",
      "□□■□■□□□□□\n",
      "□□□□□□□□□□\n"
     ]
    }
   ],
   "source": [
    "print_cells(UpdateCellStatus(n_cells,cells_per_line))"
   ]
  }
 ],
 "metadata": {
  "kernelspec": {
   "display_name": "Python 3",
   "language": "python",
   "name": "python3"
  },
  "language_info": {
   "codemirror_mode": {
    "name": "ipython",
    "version": 3
   },
   "file_extension": ".py",
   "mimetype": "text/x-python",
   "name": "python",
   "nbconvert_exporter": "python",
   "pygments_lexer": "ipython3",
   "version": "3.5.4"
  }
 },
 "nbformat": 4,
 "nbformat_minor": 2
}
